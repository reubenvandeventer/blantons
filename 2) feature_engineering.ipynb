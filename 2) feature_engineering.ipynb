{
 "cells": [
  {
   "cell_type": "code",
   "execution_count": 80,
   "metadata": {
    "collapsed": true,
    "pycharm": {
     "is_executing": false
    }
   },
   "outputs": [],
   "source": [
    "import pandas as pd\n",
    "from pandas_profiling import ProfileReport"
   ]
  },
  {
   "cell_type": "code",
   "execution_count": 81,
   "outputs": [
    {
     "name": "stderr",
     "text": [
      "/Users/reubenvandeventer/.conda/envs/untitled1/lib/python3.7/site-packages/IPython/core/interactiveshell.py:3146: DtypeWarning: Columns (11,12,25) have mixed types.Specify dtype option on import or set low_memory=False.\n",
      "  interactivity=interactivity, compiler=compiler, result=result)\n"
     ],
     "output_type": "stream"
    },
    {
     "name": "stdout",
     "text": [
      "Data type of each column of Dataframe :\n",
      "v6392    float64\n",
      "v0223    float64\n",
      "v0020    float64\n",
      "v0026    float64\n",
      "v0027    float64\n",
      "v0157    float64\n",
      "v0165    float64\n",
      "v0354    float64\n",
      "v0628    float64\n",
      "v0881    float64\n",
      "v1673    float64\n",
      "v2028     object\n",
      "v2484     object\n",
      "v3086    float64\n",
      "v3947    float64\n",
      "v3950    float64\n",
      "v4939    float64\n",
      "v4940    float64\n",
      "v4944    float64\n",
      "v4958    float64\n",
      "v4960    float64\n",
      "v5057    float64\n",
      "v5066    float64\n",
      "v5076    float64\n",
      "v5080    float64\n",
      "v5089     object\n",
      "v5098    float64\n",
      "v5245    float64\n",
      "v5264    float64\n",
      "v5296    float64\n",
      "v5306    float64\n",
      "v5330    float64\n",
      "v5339    float64\n",
      "v5736    float64\n",
      "v5740    float64\n",
      "v5812    float64\n",
      "v6296    float64\n",
      "v6302    float64\n",
      "v6353    float64\n",
      "v6362    float64\n",
      "v6367    float64\n",
      "v6372    float64\n",
      "v6379    float64\n",
      "v6400    float64\n",
      "dtype: object\n"
     ],
     "output_type": "stream"
    }
   ],
   "source": [
    "df = pd.read_csv(\"final.csv\")  \n",
    "dataTypeSeries = df.dtypes\n",
    "print('Data type of each column of Dataframe :')\n",
    "print(dataTypeSeries)\n"
   ],
   "metadata": {
    "collapsed": false,
    "pycharm": {
     "name": "#%%\n",
     "is_executing": false
    }
   }
  },
  {
   "cell_type": "code",
   "execution_count": 82,
   "outputs": [],
   "source": [
    "#prof = ProfileReport(df)\n",
    "#prof.to_file(output_file='output.html')\n"
   ],
   "metadata": {
    "collapsed": false,
    "pycharm": {
     "name": "#%%\n",
     "is_executing": false
    }
   }
  },
  {
   "cell_type": "code",
   "execution_count": 83,
   "outputs": [],
   "source": [
    "df['v2028'] = pd.to_numeric(df['v2028'], errors='coerce')\n",
    "df['v2484'] = pd.to_numeric(df['v2484'], errors='coerce')\n",
    "df['v5089'] = pd.to_numeric(df['v5089'], errors='coerce')\n"
   ],
   "metadata": {
    "collapsed": false,
    "pycharm": {
     "name": "#%%≠\n",
     "is_executing": false
    }
   }
  },
  {
   "cell_type": "code",
   "execution_count": 84,
   "outputs": [],
   "source": [
    "df['v2028'].fillna(value=df['v2028'].mean(), inplace=True)\n",
    "df['v2484'].fillna(value=df['v2484'].mean(), inplace=True)\n",
    "df['v3947'].fillna(value=df['v3947'].mean(), inplace=True)\n",
    "df['v3950'].fillna(value=df['v3950'].mean(), inplace=True)\n",
    "df['v5089'].fillna(value=df['v5089'].mean(), inplace=True)\n"
   ],
   "metadata": {
    "collapsed": false,
    "pycharm": {
     "name": "#%%\n",
     "is_executing": false
    }
   }
  },
  {
   "cell_type": "code",
   "execution_count": 85,
   "outputs": [
    {
     "data": {
      "text/plain": "v6392    False\nv0223    False\nv0020    False\nv0026    False\nv0027    False\nv0157    False\nv0165    False\nv0354    False\nv0628    False\nv0881    False\nv1673    False\nv2028    False\nv2484    False\nv3086    False\nv3947    False\nv3950    False\nv4939    False\nv4940    False\nv4944    False\nv4958    False\nv4960    False\nv5057    False\nv5066    False\nv5076    False\nv5080    False\nv5089    False\nv5098    False\nv5245    False\nv5264    False\nv5296    False\nv5306    False\nv5330    False\nv5339    False\nv5736    False\nv5740    False\nv5812    False\nv6296    False\nv6302    False\nv6353    False\nv6362    False\nv6367    False\nv6372    False\nv6379    False\nv6400    False\ndtype: bool"
     },
     "metadata": {},
     "output_type": "execute_result",
     "execution_count": 85
    }
   ],
   "source": [
    "pd.isnull(df).sum() > 0"
   ],
   "metadata": {
    "collapsed": false,
    "pycharm": {
     "name": "#%%\n",
     "is_executing": false
    }
   }
  },
  {
   "cell_type": "code",
   "execution_count": 86,
   "outputs": [
    {
     "name": "stdout",
     "text": [
      "Data type of each column of Dataframe :\n",
      "v6392    float64\n",
      "v0223    float64\n",
      "v0020    float64\n",
      "v0026    float64\n",
      "v0027    float64\n",
      "v0157    float64\n",
      "v0165    float64\n",
      "v0354    float64\n",
      "v0628    float64\n",
      "v0881    float64\n",
      "v1673    float64\n",
      "v2028    float64\n",
      "v2484    float64\n",
      "v3086    float64\n",
      "v3947    float64\n",
      "v3950    float64\n",
      "v4939    float64\n",
      "v4940    float64\n",
      "v4944    float64\n",
      "v4958    float64\n",
      "v4960    float64\n",
      "v5057    float64\n",
      "v5066    float64\n",
      "v5076    float64\n",
      "v5080    float64\n",
      "v5089    float64\n",
      "v5098    float64\n",
      "v5245    float64\n",
      "v5264    float64\n",
      "v5296    float64\n",
      "v5306    float64\n",
      "v5330    float64\n",
      "v5339    float64\n",
      "v5736    float64\n",
      "v5740    float64\n",
      "v5812    float64\n",
      "v6296    float64\n",
      "v6302    float64\n",
      "v6353    float64\n",
      "v6362    float64\n",
      "v6367    float64\n",
      "v6372    float64\n",
      "v6379    float64\n",
      "v6400    float64\n",
      "dtype: object\n"
     ],
     "output_type": "stream"
    }
   ],
   "source": [
    "dataTypeSeries = df.dtypes\n",
    "print('Data type of each column of Dataframe :')\n",
    "print(dataTypeSeries)\n"
   ],
   "metadata": {
    "collapsed": false,
    "pycharm": {
     "name": "#%%\n",
     "is_executing": false
    }
   }
  },
  {
   "cell_type": "code",
   "execution_count": 88,
   "outputs": [
    {
     "name": "stdout",
     "text": [
      "1810815\n"
     ],
     "output_type": "stream"
    }
   ],
   "source": [
    "index = df.index\n",
    "number_of_rows = len(index)\n",
    "print(number_of_rows)"
   ],
   "metadata": {
    "collapsed": false,
    "pycharm": {
     "name": "#%%\n",
     "is_executing": false
    }
   }
  },
  {
   "cell_type": "code",
   "execution_count": 87,
   "outputs": [],
   "source": [
    "df.to_csv (r'/Users/reubenvandeventer/PycharmProjects/ruffian/final.csv', index = False, header=True)"
   ],
   "metadata": {
    "collapsed": false,
    "pycharm": {
     "name": "#%%\n",
     "is_executing": false
    }
   }
  }
 ],
 "metadata": {
  "kernelspec": {
   "display_name": "Python 3",
   "language": "python",
   "name": "python3"
  },
  "language_info": {
   "codemirror_mode": {
    "name": "ipython",
    "version": 2
   },
   "file_extension": ".py",
   "mimetype": "text/x-python",
   "name": "python",
   "nbconvert_exporter": "python",
   "pygments_lexer": "ipython2",
   "version": "2.7.6"
  },
  "pycharm": {
   "stem_cell": {
    "cell_type": "raw",
    "source": [],
    "metadata": {
     "collapsed": false
    }
   }
  }
 },
 "nbformat": 4,
 "nbformat_minor": 0
}