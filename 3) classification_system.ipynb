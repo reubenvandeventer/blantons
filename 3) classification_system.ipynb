{
 "cells": [
  {
   "cell_type": "markdown",
   "metadata": {},
   "source": [
    "# Import Libraries"
   ]
  },
  {
   "cell_type": "markdown",
   "metadata": {},
   "source": [
    "<blockquote>Most of the libraries present in the lib folder. However to run XGBoost and SMOTE please install the <b>xgboost and imblearn</b> packages in the environment using pip command.</blockquote>"
   ]
  },
  {
   "cell_type": "code",
   "execution_count": 34,
   "metadata": {
    "pycharm": {
     "is_executing": false
    }
   },
   "outputs": [],
   "source": [
    "import pandas as pd\n",
    "import numpy as np\n",
    "import matplotlib.pyplot as plt\n",
    "import seaborn as sns\n",
    "%matplotlib inline\n",
    "import warnings\n",
    "warnings.filterwarnings(\"ignore\")\n",
    "import statsmodels.api as sm\n",
    "from sklearn.model_selection import train_test_split\n",
    "from sklearn.linear_model import LogisticRegression\n",
    "from sklearn.ensemble import RandomForestClassifier\n",
    "from sklearn.preprocessing import StandardScaler\n",
    "from sklearn.model_selection import cross_val_predict, cross_val_score\n",
    "from sklearn.metrics import classification_report, confusion_matrix, roc_curve, auc, precision_recall_curve, accuracy_score,roc_auc_score\n",
    "from imblearn.over_sampling import SMOTE\n",
    "from sklearn.feature_selection import RFE\n",
    "import xgboost as xgb"
   ]
  },
  {
   "cell_type": "markdown",
   "metadata": {},
   "source": [
    "# Data upload and preparation"
   ]
  },
  {
   "cell_type": "code",
   "execution_count": 49,
   "metadata": {
    "pycharm": {
     "is_executing": false
    }
   },
   "outputs": [],
   "source": [
    "data = pd.read_csv(\"final.csv\")"
   ]
  },
  {
   "cell_type": "code",
   "execution_count": 50,
   "metadata": {
    "pycharm": {
     "is_executing": false
    }
   },
   "outputs": [
    {
     "name": "stdout",
     "text": [
      "1810815\n"
     ],
     "output_type": "stream"
    }
   ],
   "source": [
    "index = data.index\n",
    "number_of_rows = len(index)\n",
    "print(number_of_rows)"
   ]
  },
  {
   "cell_type": "code",
   "execution_count": 51,
   "outputs": [
    {
     "data": {
      "text/plain": "   v6392  v0223  v0020   v0026   v0027    v0157  v0165   v0354    v0628  \\\n0    1.0    0.4    0.0  0.1667  0.0000  76000.0    1.0  2.0000  18.8599   \n1    0.0    0.7    1.0  0.0000  0.0714  74000.0    3.0  1.6667  92.1743   \n2    0.0    0.7    0.0  0.0000  0.1250  74800.0    2.0  2.6667  43.5679   \n3    1.0    0.4    1.0  0.0000  0.2143  79000.0    4.0  3.6667  31.6006   \n4    0.0    0.6    1.0  0.0714 -0.3182  82000.0    7.0  4.6667  94.8916   \n\n   v0881  ...   v5740   v5812  v6296  v6302  v6353    v6362  v6367  v6372  \\\n0    7.0  ... -0.0219 -1.5603   14.0    3.0   95.0  76.0500   88.0   88.0   \n1   11.0  ...  0.0501 -1.4895   10.0    3.0   98.0  69.4615  108.0  108.0   \n2   13.0  ... -0.2432 -1.4944   20.0    3.0   87.0  69.8636   24.0   24.0   \n3    7.0  ...  0.0626 -0.4170   15.0    5.0   80.0  67.0556   84.0   84.0   \n4   14.0  ...  0.0223 -0.0662   13.0    1.0   74.0  61.9412   79.0   19.0   \n\n   v6379  v6400  \n0   88.0  1.019  \n1  108.0  0.900  \n2   24.0  0.900  \n3   84.0  0.992  \n4   79.0  0.900  \n\n[5 rows x 44 columns]",
      "text/html": "<div>\n<style scoped>\n    .dataframe tbody tr th:only-of-type {\n        vertical-align: middle;\n    }\n\n    .dataframe tbody tr th {\n        vertical-align: top;\n    }\n\n    .dataframe thead th {\n        text-align: right;\n    }\n</style>\n<table border=\"1\" class=\"dataframe\">\n  <thead>\n    <tr style=\"text-align: right;\">\n      <th></th>\n      <th>v6392</th>\n      <th>v0223</th>\n      <th>v0020</th>\n      <th>v0026</th>\n      <th>v0027</th>\n      <th>v0157</th>\n      <th>v0165</th>\n      <th>v0354</th>\n      <th>v0628</th>\n      <th>v0881</th>\n      <th>...</th>\n      <th>v5740</th>\n      <th>v5812</th>\n      <th>v6296</th>\n      <th>v6302</th>\n      <th>v6353</th>\n      <th>v6362</th>\n      <th>v6367</th>\n      <th>v6372</th>\n      <th>v6379</th>\n      <th>v6400</th>\n    </tr>\n  </thead>\n  <tbody>\n    <tr>\n      <th>0</th>\n      <td>1.0</td>\n      <td>0.4</td>\n      <td>0.0</td>\n      <td>0.1667</td>\n      <td>0.0000</td>\n      <td>76000.0</td>\n      <td>1.0</td>\n      <td>2.0000</td>\n      <td>18.8599</td>\n      <td>7.0</td>\n      <td>...</td>\n      <td>-0.0219</td>\n      <td>-1.5603</td>\n      <td>14.0</td>\n      <td>3.0</td>\n      <td>95.0</td>\n      <td>76.0500</td>\n      <td>88.0</td>\n      <td>88.0</td>\n      <td>88.0</td>\n      <td>1.019</td>\n    </tr>\n    <tr>\n      <th>1</th>\n      <td>0.0</td>\n      <td>0.7</td>\n      <td>1.0</td>\n      <td>0.0000</td>\n      <td>0.0714</td>\n      <td>74000.0</td>\n      <td>3.0</td>\n      <td>1.6667</td>\n      <td>92.1743</td>\n      <td>11.0</td>\n      <td>...</td>\n      <td>0.0501</td>\n      <td>-1.4895</td>\n      <td>10.0</td>\n      <td>3.0</td>\n      <td>98.0</td>\n      <td>69.4615</td>\n      <td>108.0</td>\n      <td>108.0</td>\n      <td>108.0</td>\n      <td>0.900</td>\n    </tr>\n    <tr>\n      <th>2</th>\n      <td>0.0</td>\n      <td>0.7</td>\n      <td>0.0</td>\n      <td>0.0000</td>\n      <td>0.1250</td>\n      <td>74800.0</td>\n      <td>2.0</td>\n      <td>2.6667</td>\n      <td>43.5679</td>\n      <td>13.0</td>\n      <td>...</td>\n      <td>-0.2432</td>\n      <td>-1.4944</td>\n      <td>20.0</td>\n      <td>3.0</td>\n      <td>87.0</td>\n      <td>69.8636</td>\n      <td>24.0</td>\n      <td>24.0</td>\n      <td>24.0</td>\n      <td>0.900</td>\n    </tr>\n    <tr>\n      <th>3</th>\n      <td>1.0</td>\n      <td>0.4</td>\n      <td>1.0</td>\n      <td>0.0000</td>\n      <td>0.2143</td>\n      <td>79000.0</td>\n      <td>4.0</td>\n      <td>3.6667</td>\n      <td>31.6006</td>\n      <td>7.0</td>\n      <td>...</td>\n      <td>0.0626</td>\n      <td>-0.4170</td>\n      <td>15.0</td>\n      <td>5.0</td>\n      <td>80.0</td>\n      <td>67.0556</td>\n      <td>84.0</td>\n      <td>84.0</td>\n      <td>84.0</td>\n      <td>0.992</td>\n    </tr>\n    <tr>\n      <th>4</th>\n      <td>0.0</td>\n      <td>0.6</td>\n      <td>1.0</td>\n      <td>0.0714</td>\n      <td>-0.3182</td>\n      <td>82000.0</td>\n      <td>7.0</td>\n      <td>4.6667</td>\n      <td>94.8916</td>\n      <td>14.0</td>\n      <td>...</td>\n      <td>0.0223</td>\n      <td>-0.0662</td>\n      <td>13.0</td>\n      <td>1.0</td>\n      <td>74.0</td>\n      <td>61.9412</td>\n      <td>79.0</td>\n      <td>19.0</td>\n      <td>79.0</td>\n      <td>0.900</td>\n    </tr>\n  </tbody>\n</table>\n<p>5 rows × 44 columns</p>\n</div>"
     },
     "metadata": {},
     "output_type": "execute_result",
     "execution_count": 51
    }
   ],
   "source": [
    "data.head(5)"
   ],
   "metadata": {
    "collapsed": false,
    "pycharm": {
     "name": "#%%\n",
     "is_executing": false
    }
   }
  },
  {
   "cell_type": "code",
   "execution_count": 52,
   "metadata": {
    "pycharm": {
     "is_executing": false
    }
   },
   "outputs": [],
   "source": [
    "x = data.iloc[:, data.columns != 'v6392']\n",
    "y = data.iloc[:, data.columns == 'v6392']"
   ]
  },
  {
   "cell_type": "markdown",
   "metadata": {},
   "source": [
    "# Important Disclaimer"
   ]
  },
  {
   "cell_type": "markdown",
   "metadata": {},
   "source": [
    "<blockquote>Run <b>Logistic oversample, Random Forest oversample, XGBoost oversample</b> at one go. Run <b>Logistic on actual, RF on actual plus class weight and XGB on actual plus class weight</b> at another go</blockquote>"
   ]
  },
  {
   "cell_type": "markdown",
   "metadata": {},
   "source": [
    "# Undersampling imbalance data"
   ]
  },
  {
   "cell_type": "code",
   "execution_count": 53,
   "metadata": {
    "pycharm": {
     "is_executing": false
    }
   },
   "outputs": [
    {
     "name": "stdout",
     "text": [
      "percentage of normal transaction:  0.5\n",
      "percentage of fraud transaction:  0.5\n",
      "Total number of transactions in resampled data:  603872\n"
     ],
     "output_type": "stream"
    }
   ],
   "source": [
    "number_records_fraud = len(data[data.v6392 == 1])\n",
    "fraud_indices = np.array(data[data.v6392 == 1].index)\n",
    "normal_indices = np.array(data[data.v6392 == 0].index)\n",
    "random_normal_indices = np.random.choice(normal_indices, number_records_fraud, replace = False)\n",
    "random_normal_indices = np.array(random_normal_indices)\n",
    "under_sample_indices = np.concatenate([fraud_indices, random_normal_indices])\n",
    "under_sample_data = data.iloc[under_sample_indices,:]\n",
    "x_undersample = under_sample_data.iloc[:, under_sample_data.columns != 'v6392']\n",
    "y_undersample = under_sample_data.iloc[:, under_sample_data.columns == 'v6392']\n",
    "print(\"percentage of normal transaction: \", len(under_sample_data[under_sample_data.v6392 == 0])/len(under_sample_data))\n",
    "print(\"percentage of fraud transaction: \", len(under_sample_data[under_sample_data.v6392 == 1])/len(under_sample_data))\n",
    "print(\"Total number of transactions in resampled data: \", len(under_sample_data))"
   ]
  },
  {
   "cell_type": "markdown",
   "metadata": {},
   "source": [
    "# Logistic Regression with undersample/original data"
   ]
  },
  {
   "cell_type": "code",
   "execution_count": 54,
   "metadata": {
    "pycharm": {
     "is_executing": false
    }
   },
   "outputs": [],
   "source": [
    "features = x # Change x to x_undersample for undersample data\n",
    "target = y # Change y to y_undersample for undersample data\n",
    "\n",
    "x_train, x_test, y_train, y_test = train_test_split(features, target, stratify = target, test_size = 0.3, random_state = 1)\n",
    "\n",
    "lr_model = LogisticRegression()\n",
    "lr_model.fit(x_train, y_train)\n",
    "LR_pred = lr_model.predict(x_test)"
   ]
  },
  {
   "cell_type": "code",
   "execution_count": 55,
   "metadata": {
    "pycharm": {
     "is_executing": false
    }
   },
   "outputs": [
    {
     "data": {
      "text/plain": "0.8332501909819695"
     },
     "metadata": {},
     "output_type": "execute_result",
     "execution_count": 55
    }
   ],
   "source": [
    "accuracy_score(y_test, LR_pred)"
   ]
  },
  {
   "cell_type": "code",
   "execution_count": 56,
   "metadata": {
    "pycharm": {
     "is_executing": false
    }
   },
   "outputs": [
    {
     "name": "stdout",
     "text": [
      "              precision    recall  f1-score   support\n",
      "\n",
      "         0.0       0.83      1.00      0.91    452664\n",
      "         1.0       0.37      0.00      0.00     90581\n",
      "\n",
      "    accuracy                           0.83    543245\n",
      "   macro avg       0.60      0.50      0.45    543245\n",
      "weighted avg       0.76      0.83      0.76    543245\n",
      "\n"
     ],
     "output_type": "stream"
    }
   ],
   "source": [
    "print(classification_report(y_test, LR_pred))"
   ]
  },
  {
   "cell_type": "markdown",
   "metadata": {},
   "source": [
    "# Oversampling"
   ]
  },
  {
   "cell_type": "code",
   "execution_count": 57,
   "metadata": {
    "pycharm": {
     "is_executing": false
    }
   },
   "outputs": [],
   "source": [
    "features = data.iloc[:, under_sample_data.columns != 'v6392']\n",
    "target = data.iloc[:, under_sample_data.columns == 'v6392']\n",
    "\n",
    "x_train, x_test, y_train, y_test = train_test_split(features, target, test_size = 0.3, random_state = 1)\n",
    "\n",
    "oversample = SMOTE(random_state = 2)\n",
    "x_train_os, y_train_os = oversample.fit_sample(x_train, y_train)"
   ]
  },
  {
   "cell_type": "markdown",
   "metadata": {},
   "source": [
    "# Logistic Regression oversampled data"
   ]
  },
  {
   "cell_type": "code",
   "execution_count": 58,
   "metadata": {
    "pycharm": {
     "is_executing": false
    }
   },
   "outputs": [],
   "source": [
    "x_train = x_train_os\n",
    "y_train = y_train_os\n",
    "#columns = x_train.columns\n",
    "\n",
    "#x_train = StandardScaler().fit_transform(x_train)\n",
    "#x_train = pd.DataFrame(x_train, columns = list(columns))\n",
    "\n",
    "LR = LogisticRegression()\n",
    "\n",
    "LR.fit(x_train, y_train)\n",
    "LR_pred_score = LR.predict_proba(x_test)\n",
    "LR_pred = LR.predict(x_test)"
   ]
  },
  {
   "cell_type": "markdown",
   "metadata": {},
   "source": [
    "## Logistic output"
   ]
  },
  {
   "cell_type": "code",
   "execution_count": 59,
   "metadata": {
    "pycharm": {
     "is_executing": false
    }
   },
   "outputs": [
    {
     "name": "stdout",
     "text": [
      "[[258248 194342]\n",
      " [ 39066  51589]]\n"
     ],
     "output_type": "stream"
    }
   ],
   "source": [
    "print(confusion_matrix(y_test, LR_pred))"
   ]
  },
  {
   "cell_type": "code",
   "execution_count": 60,
   "metadata": {
    "pycharm": {
     "is_executing": false
    }
   },
   "outputs": [
    {
     "name": "stdout",
     "text": [
      "              precision    recall  f1-score   support\n",
      "\n",
      "         0.0       0.87      0.57      0.69    452590\n",
      "         1.0       0.21      0.57      0.31     90655\n",
      "\n",
      "    accuracy                           0.57    543245\n",
      "   macro avg       0.54      0.57      0.50    543245\n",
      "weighted avg       0.76      0.57      0.62    543245\n",
      "\n"
     ],
     "output_type": "stream"
    }
   ],
   "source": [
    "print(classification_report(y_test, LR_pred))"
   ]
  },
  {
   "cell_type": "code",
   "execution_count": 61,
   "metadata": {
    "pycharm": {
     "is_executing": false
    }
   },
   "outputs": [
    {
     "data": {
      "text/plain": "0.5703448720190706"
     },
     "metadata": {},
     "output_type": "execute_result",
     "execution_count": 61
    }
   ],
   "source": [
    "LR.score(x_test, y_test)"
   ]
  },
  {
   "cell_type": "code",
   "execution_count": 62,
   "metadata": {
    "pycharm": {
     "is_executing": false
    }
   },
   "outputs": [
    {
     "data": {
      "text/plain": "0.5989065060698472"
     },
     "metadata": {},
     "output_type": "execute_result",
     "execution_count": 62
    }
   ],
   "source": [
    "LR_pred_score = pd.DataFrame(LR_pred_score[:,1])\n",
    "roc_auc_score(y_test, LR_pred_score)"
   ]
  },
  {
   "cell_type": "markdown",
   "metadata": {},
   "source": [
    "# RFE"
   ]
  },
  {
   "cell_type": "code",
   "execution_count": 63,
   "metadata": {
    "pycharm": {
     "is_executing": false
    }
   },
   "outputs": [
    {
     "name": "stdout",
     "text": [
      "[ True  True  True  True False  True  True False False  True  True  True\n",
      "  True  True  True False False False False False  True  True False  True\n",
      "  True False  True False  True  True  True  True  True  True  True False\n",
      " False False False False False False  True]\n",
      "[ 1  1  1  1 19  1  1 18  8  1  1  1  1  1  1 17  3 10  9 14  1  1  2  1\n",
      "  1  7  1 13  1  1  1  1  1  1  1  6  5  4 16 12 11 15  1]\n"
     ],
     "output_type": "stream"
    }
   ],
   "source": [
    "rfe = RFE(LR, 25) # The 25 was selected by me. Please select the number of variables you want\n",
    "rfe = rfe.fit(x_train, y_train.values.ravel())\n",
    "print(rfe.support_)\n",
    "print(rfe.ranking_)"
   ]
  },
  {
   "cell_type": "markdown",
   "metadata": {},
   "source": [
    "# Logistic Regression explanatory model"
   ]
  },
  {
   "cell_type": "code",
   "execution_count": 64,
   "metadata": {
    "pycharm": {
     "is_executing": false
    }
   },
   "outputs": [
    {
     "name": "stdout",
     "text": [
      "Optimization terminated successfully.\n",
      "         Current function value: 0.573218\n",
      "         Iterations 6\n",
      "                          Results: Logit\n",
      "===================================================================\n",
      "Model:              Logit            Pseudo R-squared: 0.173       \n",
      "Dependent Variable: v6392            AIC:              2421982.1505\n",
      "Date:               2020-10-05 12:41 BIC:              2422283.6725\n",
      "No. Observations:   2112578          Log-Likelihood:   -1.2110e+06 \n",
      "Df Model:           23               LL-Null:          -1.4643e+06 \n",
      "Df Residuals:       2112554          LLR p-value:      0.0000      \n",
      "Converged:          1.0000           Scale:            1.0000      \n",
      "No. Iterations:     6.0000                                         \n",
      "---------------------------------------------------------------------\n",
      "           Coef.    Std.Err.       z       P>|z|     [0.025    0.975]\n",
      "---------------------------------------------------------------------\n",
      "v0223     -0.0584     0.0055    -10.6465   0.0000   -0.0691   -0.0476\n",
      "v0020      0.3922     0.0042     94.3859   0.0000    0.3841    0.4004\n",
      "v0026      0.3305     0.0119     27.8339   0.0000    0.3073    0.3538\n",
      "v0027      0.1534     0.0102     15.0651   0.0000    0.1334    0.1733\n",
      "v0165     -0.0328     0.0007    -49.7244   0.0000   -0.0341   -0.0315\n",
      "v0354      0.0036     0.0011      3.3926   0.0007    0.0015    0.0057\n",
      "v1673     -0.0226     0.0011    -21.3691   0.0000   -0.0247   -0.0205\n",
      "v2028      0.0356     0.0013     27.9429   0.0000    0.0331    0.0381\n",
      "v2484      0.0243     0.0012     20.1659   0.0000    0.0219    0.0266\n",
      "v3086      0.0490     0.0031     16.0031   0.0000    0.0430    0.0549\n",
      "v3947     12.7342     0.0462    275.3578   0.0000   12.6435   12.8248\n",
      "v3950     -7.1647     0.0585   -122.3907   0.0000   -7.2794   -7.0499\n",
      "v5057      0.0019     0.0002     12.6129   0.0000    0.0016    0.0022\n",
      "v5066      1.3749     0.0409     33.5990   0.0000    1.2947    1.4551\n",
      "v5080     -0.0142     0.0007    -21.1080   0.0000   -0.0155   -0.0129\n",
      "v5089     -0.0388     0.0008    -48.0101   0.0000   -0.0404   -0.0372\n",
      "v5245      0.3749     0.0113     33.2223   0.0000    0.3528    0.3971\n",
      "v5296     -0.1606     0.0265     -6.0599   0.0000   -0.2125   -0.1086\n",
      "v5306     -0.1705     0.0259     -6.5899   0.0000   -0.2212   -0.1198\n",
      "v5330      1.2441     0.0283     44.0038   0.0000    1.1886    1.2995\n",
      "v5736     -1.3761     0.0321    -42.8409   0.0000   -1.4390   -1.3131\n",
      "v5740     -0.1422     0.0103    -13.8264   0.0000   -0.1624   -0.1221\n",
      "v5812     -0.0945     0.0021    -43.9798   0.0000   -0.0988   -0.0903\n",
      "v6400     -2.9668     0.0195   -152.4550   0.0000   -3.0050   -2.9287\n",
      "===================================================================\n",
      "\n"
     ],
     "output_type": "stream"
    }
   ],
   "source": [
    "x_train_imp = x_train.drop(list(x_train.columns[rfe.ranking_ != 1]), axis = 1)\n",
    "x_train_imp = x_train_imp.drop(['v5339'], axis = 1) # This variable was dropped after checking p-value\n",
    "\n",
    "logit_model = sm.Logit(y_train, x_train_imp)\n",
    "result = logit_model.fit()\n",
    "print(result.summary2())"
   ]
  },
  {
   "cell_type": "markdown",
   "metadata": {},
   "source": [
    "# Random Forest oversampled data"
   ]
  },
  {
   "cell_type": "code",
   "execution_count": 65,
   "metadata": {
    "pycharm": {
     "is_executing": false
    }
   },
   "outputs": [],
   "source": [
    "RF = RandomForestClassifier(n_estimators = 6)\n",
    "\n",
    "RF.fit(x_train, y_train)\n",
    "RF_pred_score = RF.predict_proba(x_test)\n",
    "RF_pred = RF.predict(x_test)"
   ]
  },
  {
   "cell_type": "markdown",
   "metadata": {},
   "source": [
    "# Random Forest with class weight and parameters"
   ]
  },
  {
   "cell_type": "markdown",
   "metadata": {},
   "source": [
    "<blockquote>The goal of this particular problem to accurately select the imbalance class. Imbalance class may occur in many places including credit card fraud, malignant growth detection etc. One of the technique to handle imbalance class is to sythetic sampling. However synthetic sampling means information manipulation. Hence class weigtage method is being used here.</blockquote>"
   ]
  },
  {
   "cell_type": "code",
   "execution_count": 66,
   "metadata": {
    "pycharm": {
     "is_executing": false
    }
   },
   "outputs": [],
   "source": [
    "x_train, x_test, y_train, y_test = train_test_split(x, y, test_size = 0.3, random_state = 1)\n",
    "class_weight = dict({0:1, 1:5}) # The ratio of 0:1 is 5:1. Hence the weight ratio is 1:5.\n",
    "RF = RandomForestClassifier(bootstrap=True,\n",
    "            class_weight=class_weight, \n",
    "            criterion='gini',\n",
    "            max_depth=8, max_features='auto', max_leaf_nodes=None,\n",
    "            min_impurity_decrease=0.0, min_impurity_split=None,\n",
    "            min_samples_leaf=4, min_samples_split=10,\n",
    "            min_weight_fraction_leaf=0.0, n_estimators=6,\n",
    "            oob_score=False,\n",
    "            random_state=1,\n",
    "            verbose=0, warm_start=False)\n",
    "RF.fit(x_train, y_train)\n",
    "RF_pred_score = RF.predict_proba(x_test)\n",
    "RF_pred = RF.predict(x_test)"
   ]
  },
  {
   "cell_type": "markdown",
   "metadata": {},
   "source": [
    "## Output of RF (Run any one of the above two)"
   ]
  },
  {
   "cell_type": "code",
   "execution_count": 67,
   "metadata": {
    "pycharm": {
     "is_executing": false
    }
   },
   "outputs": [
    {
     "name": "stdout",
     "text": [
      "[[288330 164260]\n",
      " [ 23278  67377]]\n"
     ],
     "output_type": "stream"
    }
   ],
   "source": [
    "print(confusion_matrix(y_test, RF_pred))"
   ]
  },
  {
   "cell_type": "code",
   "execution_count": 68,
   "metadata": {
    "pycharm": {
     "is_executing": false
    }
   },
   "outputs": [
    {
     "name": "stdout",
     "text": [
      "              precision    recall  f1-score   support\n",
      "\n",
      "         0.0       0.93      0.64      0.75    452590\n",
      "         1.0       0.29      0.74      0.42     90655\n",
      "\n",
      "    accuracy                           0.65    543245\n",
      "   macro avg       0.61      0.69      0.59    543245\n",
      "weighted avg       0.82      0.65      0.70    543245\n",
      "\n"
     ],
     "output_type": "stream"
    }
   ],
   "source": [
    "print(classification_report(y_test, RF_pred))"
   ]
  },
  {
   "cell_type": "code",
   "execution_count": 69,
   "metadata": {
    "pycharm": {
     "is_executing": false
    }
   },
   "outputs": [
    {
     "name": "stdout",
     "text": [
      "0.6547819123968007\n",
      "0.65493108861838\n"
     ],
     "output_type": "stream"
    }
   ],
   "source": [
    "print(RF.score(x_test, y_test))\n",
    "print(RF.score(x_train, y_train))"
   ]
  },
  {
   "cell_type": "code",
   "execution_count": 70,
   "metadata": {
    "pycharm": {
     "is_executing": false
    }
   },
   "outputs": [
    {
     "data": {
      "text/plain": "0.7546576568847254"
     },
     "metadata": {},
     "output_type": "execute_result",
     "execution_count": 70
    }
   ],
   "source": [
    "RF_pred_score = pd.DataFrame(RF_pred_score[:,1])\n",
    "roc_auc_score(y_test, RF_pred_score)"
   ]
  },
  {
   "cell_type": "markdown",
   "metadata": {},
   "source": [
    "# XGB oversampeled data"
   ]
  },
  {
   "cell_type": "code",
   "execution_count": 71,
   "metadata": {
    "pycharm": {
     "is_executing": false
    }
   },
   "outputs": [],
   "source": [
    "XGB = xgb.XGBClassifier(n_estimators = 100)\n",
    "\n",
    "XGB.fit(x_train, y_train)\n",
    "xgb_pred_score = XGB.predict_proba(x_test)\n",
    "xgb_pred = XGB.predict(x_test)"
   ]
  },
  {
   "cell_type": "markdown",
   "metadata": {},
   "source": [
    "# XGBoost on original data with class weight"
   ]
  },
  {
   "cell_type": "markdown",
   "metadata": {},
   "source": [
    "<blockquote>Unlike RF which is a bagging technique boosting is a sequencial process. It creates tree based on the prior knowledge and thus reducing error. Boosting can also include class weight as one of the parameter. Hence suitable for this scenario.</blockquote>"
   ]
  },
  {
   "cell_type": "code",
   "execution_count": 72,
   "metadata": {
    "pycharm": {
     "is_executing": false
    }
   },
   "outputs": [],
   "source": [
    "x_train, x_test, y_train, y_test = train_test_split(x, y, test_size = 0.3, random_state = 1)\n",
    "XGB = xgb.XGBClassifier(learning_rate=0.001,\n",
    "                        max_depth = 1, \n",
    "                        n_estimators = 100,\n",
    "                        scale_pos_weight=5) # class weight\n",
    "XGB.fit(x_train, y_train)\n",
    "xgb_pred_score = XGB.predict_proba(x_test)\n",
    "xgb_pred = XGB.predict(x_test)"
   ]
  },
  {
   "cell_type": "markdown",
   "metadata": {},
   "source": [
    "## XGB output"
   ]
  },
  {
   "cell_type": "code",
   "execution_count": 73,
   "metadata": {
    "pycharm": {
     "is_executing": false
    }
   },
   "outputs": [
    {
     "name": "stdout",
     "text": [
      "0.5497685206490626\n",
      "0.5488525288544223\n"
     ],
     "output_type": "stream"
    }
   ],
   "source": [
    "print(XGB.score(x_test, y_test))\n",
    "print(XGB.score(x_train, y_train))"
   ]
  },
  {
   "cell_type": "code",
   "execution_count": 74,
   "metadata": {
    "pycharm": {
     "is_executing": false
    }
   },
   "outputs": [
    {
     "name": "stdout",
     "text": [
      "[[221988 230602]\n",
      " [ 13984  76671]]\n"
     ],
     "output_type": "stream"
    }
   ],
   "source": [
    "print(confusion_matrix(y_test, xgb_pred))"
   ]
  },
  {
   "cell_type": "code",
   "execution_count": 75,
   "metadata": {
    "pycharm": {
     "is_executing": false
    }
   },
   "outputs": [
    {
     "name": "stdout",
     "text": [
      "              precision    recall  f1-score   support\n",
      "\n",
      "         0.0       0.94      0.49      0.64    452590\n",
      "         1.0       0.25      0.85      0.39     90655\n",
      "\n",
      "    accuracy                           0.55    543245\n",
      "   macro avg       0.60      0.67      0.52    543245\n",
      "weighted avg       0.83      0.55      0.60    543245\n",
      "\n"
     ],
     "output_type": "stream"
    }
   ],
   "source": [
    "print(classification_report(y_test, xgb_pred))"
   ]
  },
  {
   "cell_type": "code",
   "execution_count": 76,
   "metadata": {
    "pycharm": {
     "is_executing": false
    }
   },
   "outputs": [
    {
     "data": {
      "text/plain": "0.7174412377765877"
     },
     "metadata": {},
     "output_type": "execute_result",
     "execution_count": 76
    }
   ],
   "source": [
    "xgb_pred_score = pd.DataFrame(xgb_pred_score[:,1])\n",
    "roc_auc_score(y_test, xgb_pred_score)"
   ]
  },
  {
   "cell_type": "markdown",
   "metadata": {},
   "source": [
    "# ROC curve of all the models"
   ]
  },
  {
   "cell_type": "code",
   "execution_count": 77,
   "metadata": {
    "pycharm": {
     "is_executing": false
    }
   },
   "outputs": [
    {
     "data": {
      "text/plain": "<Figure size 432x288 with 1 Axes>",
      "image/png": "[encoded data removed]"
     },
     "metadata": {
      "needs_background": "light"
     },
     "output_type": "display_data"
    }
   ],
   "source": [
    "ns_probs = [0 for _ in range(len(y_test))]\n",
    "\n",
    "ns_fpr, ns_tpr, _ = roc_curve(y_test, ns_probs)\n",
    "lr_fpr, lr_tpr, _ = roc_curve(y_test, LR_pred_score)\n",
    "rf_fpr, rf_tpr, _ = roc_curve(y_test, RF_pred_score)\n",
    "xgb_fpr, xgb_tpr, _ = roc_curve(y_test, xgb_pred_score)\n",
    "\n",
    "plt.plot(ns_fpr, ns_tpr, linestyle='--', label='No Skill')\n",
    "plt.plot(lr_fpr, lr_tpr, marker='P', label='Logistic Regression')\n",
    "plt.plot(rf_fpr, rf_tpr, marker='o', label='Random Forest')\n",
    "plt.plot(xgb_fpr, xgb_tpr, marker='2', label='XGB')\n",
    "\n",
    "plt.xlabel('False Positive Rate')\n",
    "plt.ylabel('True Positive Rate')\n",
    "\n",
    "plt.legend()\n",
    "plt.savefig('fig1.pdf')\n",
    "plt.show()"
   ]
  },
  {
   "cell_type": "markdown",
   "metadata": {},
   "source": [
    "# Classification Report of all the model"
   ]
  },
  {
   "cell_type": "code",
   "execution_count": 80,
   "metadata": {
    "pycharm": {
     "is_executing": false
    }
   },
   "outputs": [
    {
     "name": "stdout",
     "text": [
      "Logistic Regression Model Performance\n",
      "              precision    recall  f1-score   support\n",
      "\n",
      "         0.0       0.87      0.57      0.69    452590\n",
      "         1.0       0.21      0.57      0.31     90655\n",
      "\n",
      "    accuracy                           0.57    543245\n",
      "   macro avg       0.54      0.57      0.50    543245\n",
      "weighted avg       0.76      0.57      0.62    543245\n",
      "\n",
      "Random Forest Model Performance\n",
      "              precision    recall  f1-score   support\n",
      "\n",
      "         0.0       0.93      0.64      0.75    452590\n",
      "         1.0       0.29      0.74      0.42     90655\n",
      "\n",
      "    accuracy                           0.65    543245\n",
      "   macro avg       0.61      0.69      0.59    543245\n",
      "weighted avg       0.82      0.65      0.70    543245\n",
      "\n",
      "XGBoost Model Performance\n",
      "              precision    recall  f1-score   support\n",
      "\n",
      "         0.0       0.94      0.49      0.64    452590\n",
      "         1.0       0.25      0.85      0.39     90655\n",
      "\n",
      "    accuracy                           0.55    543245\n",
      "   macro avg       0.60      0.67      0.52    543245\n",
      "weighted avg       0.83      0.55      0.60    543245\n",
      "\n"
     ],
     "output_type": "stream"
    }
   ],
   "source": [
    "print('Logistic Regression Model Performance')\n",
    "print(classification_report(y_test, LR_pred))\n",
    "print('Random Forest Model Performance')\n",
    "print(classification_report(y_test, RF_pred))\n",
    "print('XGBoost Model Performance')\n",
    "print(classification_report(y_test, xgb_pred))"
   ]
  },
  {
   "cell_type": "markdown",
   "metadata": {},
   "source": [
    "# Conclusion"
   ]
  },
  {
   "cell_type": "markdown",
   "metadata": {},
   "source": [
    "<blockquote>The ROC curve for all the models indicate that XGB is a better choice than others. However one may argue that the accuracy of XGB is the worst. Hence we again need to go back to our primary goal. That is to select the model which can capture the anomaly best. In this case if the prediction was all the labels are 0 then the accuracy would be 80%. Sometimes when the imbalance is more prominent then the accuracy may reach to 99% without building any model. Hence accuracy as a metric is unsuitable for these cases. The most important is the <b>recall</b>. We can conclude from the report that recall of XGB is highest. Hence we should consider XGB as the model of choice.</blockquote>"
   ]
  }
 ],
 "metadata": {
  "kernelspec": {
   "display_name": "Python 3",
   "language": "python",
   "name": "python3"
  },
  "language_info": {
   "codemirror_mode": {
    "name": "ipython",
    "version": 3
   },
   "file_extension": ".py",
   "mimetype": "text/x-python",
   "name": "python",
   "nbconvert_exporter": "python",
   "pygments_lexer": "ipython3",
   "version": "3.8.3"
  },
  "pycharm": {
   "stem_cell": {
    "cell_type": "raw",
    "source": [],
    "metadata": {
     "collapsed": false
    }
   }
  }
 },
 "nbformat": 4,
 "nbformat_minor": 4
}